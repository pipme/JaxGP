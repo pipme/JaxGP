{
 "cells": [
  {
   "cell_type": "code",
   "execution_count": 1,
   "metadata": {},
   "outputs": [],
   "source": [
    "import sys\n",
    "sys.path.insert(0, \"..\")\n",
    "\n",
    "%load_ext autoreload\n",
    "%autoreload 2"
   ]
  },
  {
   "cell_type": "code",
   "execution_count": 38,
   "metadata": {},
   "outputs": [],
   "source": [
    "from jax.config import config\n",
    "\n",
    "config.update(\"jax_debug_nans\", True)\n",
    "from jaxgp.config import Config\n",
    "\n",
    "import jaxgp as jgp\n",
    "import jax.numpy as jnp\n",
    "import jax.random as jr\n",
    "from jaxgp.sgpr import SGPR\n",
    "from scipy.optimize import minimize\n",
    "import jaxopt\n",
    "import numpy as np\n",
    "import matplotlib.pyplot as plt"
   ]
  },
  {
   "cell_type": "code",
   "execution_count": 67,
   "metadata": {},
   "outputs": [],
   "source": [
    "N = 500\n",
    "noise = 1.\n",
    "rng = np.random.RandomState(42)\n",
    "X = rng.uniform(-3.0, 3.0, size=(N,))\n",
    "f = lambda x: np.sin(4 * x) + np.cos(2 * x)\n",
    "signal = f(X)\n",
    "y = signal + rng.normal(size=signal.shape) * noise\n",
    "Z = np.linspace(-5., 5., 10)\n",
    "Xtest = np.linspace(-5.,  5., 500).reshape(-1, 1)\n",
    "ytest = f(Xtest)"
   ]
  },
  {
   "cell_type": "code",
   "execution_count": 68,
   "metadata": {},
   "outputs": [
    {
     "name": "stdout",
     "output_type": "stream",
     "text": [
      "Initial negative elbo =  826.3514113036671\n",
      "Warning: Desired error not necessarily achieved due to precision loss.\n",
      "         Current function value: 746.196074\n",
      "         Iterations: 27\n",
      "         Function evaluations: 124\n",
      "         Gradient evaluations: 112\n",
      "After optimization negative elbo =  746.1960737987777\n"
     ]
    }
   ],
   "source": [
    "train_data = jgp.Dataset(X=X, Y=y)\n",
    "kernel = jgp.RBF(active_dims=[0, 1])\n",
    "model = SGPR(\n",
    "    train_data=train_data,\n",
    "    gprior=jgp.GPrior(kernel=kernel),\n",
    "    likelihood=jgp.Gaussian(num_datapoints=train_data.N),\n",
    "    inducing_points=Z,\n",
    ")\n",
    "\n",
    "params, constrain_trans, unconstrain_trans = jgp.initialise(model)\n",
    "raw_params = unconstrain_trans(params)\n",
    "neg_elbo = model.build_elbo(sign=-1.0)\n",
    "print(\"Initial negative elbo = \", neg_elbo(raw_params))\n",
    "solver = jaxopt.ScipyMinimize(\n",
    "    fun=neg_elbo, jit=True, options={\"disp\": True}\n",
    ")\n",
    "soln = solver.run(raw_params)\n",
    "print(\"After optimization negative elbo = \", soln.state.fun_val)\n",
    "# Remember to transform since the optimization is in unconstrained space\n",
    "final_params = constrain_trans(soln.params)\n",
    "posterior = model.posterior()"
   ]
  },
  {
   "cell_type": "code",
   "execution_count": 69,
   "metadata": {},
   "outputs": [],
   "source": [
    "pred_mean, pred_var = posterior.predict_f(\n",
    "    Xtest, final_params, full_cov=False\n",
    ")"
   ]
  },
  {
   "cell_type": "code",
   "execution_count": 70,
   "metadata": {},
   "outputs": [
    {
     "data": {
      "text/plain": [
       "<matplotlib.collections.PolyCollection at 0x2aa7f6820>"
      ]
     },
     "execution_count": 70,
     "metadata": {},
     "output_type": "execute_result"
    },
    {
     "data": {
      "image/png": "[encoded data removed]",
      "text/plain": [
       "<Figure size 432x288 with 1 Axes>"
      ]
     },
     "metadata": {
      "needs_background": "light"
     },
     "output_type": "display_data"
    }
   ],
   "source": [
    "plt.plot(X, y, \"o\", color=\"k\", markersize=2)\n",
    "plt.plot(final_params[\"inducing_points\"], np.zeros_like(Z), \"x\", color=\"tab:red\")\n",
    "plt.plot(Xtest, pred_mean, color=\"tab:orange\", linewidth=2)\n",
    "plt.fill_between(\n",
    "    Xtest.squeeze(),\n",
    "    pred_mean.squeeze() - 2*np.sqrt(pred_var.squeeze()),\n",
    "    pred_mean.squeeze() + 2*np.sqrt(pred_var.squeeze()),\n",
    "    alpha=0.5,\n",
    "    color=\"tab:blue\",\n",
    ")"
   ]
  },
  {
   "cell_type": "code",
   "execution_count": 71,
   "metadata": {},
   "outputs": [
    {
     "data": {
      "text/plain": [
       "{'inducing_points': DeviceArray([[-3.95504648],\n",
       "              [-2.40265795],\n",
       "              [-0.77242675],\n",
       "              [-0.96812799],\n",
       "              [-2.19030179],\n",
       "              [ 2.64790239],\n",
       "              [ 1.8734758 ],\n",
       "              [ 0.44249766],\n",
       "              [ 1.21028365],\n",
       "              [ 1.96407802]], dtype=float64),\n",
       " 'kernel': {'lengthscale': DeviceArray([0.63763736, 0.63730692], dtype=float64),\n",
       "  'outputscale': DeviceArray([0.32934049], dtype=float64)},\n",
       " 'likelihood': {'noise': DeviceArray(1.09543567, dtype=float64)},\n",
       " 'mean_function': {}}"
      ]
     },
     "execution_count": 71,
     "metadata": {},
     "output_type": "execute_result"
    }
   ],
   "source": [
    "final_params"
   ]
  },
  {
   "cell_type": "code",
   "execution_count": null,
   "metadata": {},
   "outputs": [],
   "source": []
  }
 ],
 "metadata": {
  "interpreter": {
   "hash": "73de991c5b87fa789d9b193d807aa508bc59c930638e53d55560bd0f6da949df"
  },
  "kernelspec": {
   "display_name": "Python 3.9.9 ('py39_forge')",
   "language": "python",
   "name": "python3"
  },
  "language_info": {
   "codemirror_mode": {
    "name": "ipython",
    "version": 3
   },
   "file_extension": ".py",
   "mimetype": "text/x-python",
   "name": "python",
   "nbconvert_exporter": "python",
   "pygments_lexer": "ipython3",
   "version": "3.9.9"
  },
  "orig_nbformat": 4
 },
 "nbformat": 4,
 "nbformat_minor": 2
}
