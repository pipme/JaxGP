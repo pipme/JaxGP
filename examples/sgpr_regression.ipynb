{
 "cells": [
  {
   "cell_type": "code",
   "execution_count": 1,
   "metadata": {},
   "outputs": [],
   "source": [
    "import sys\n",
    "sys.path.insert(0, \"..\")\n",
    "\n",
    "%load_ext autoreload\n",
    "%autoreload 2"
   ]
  },
  {
   "cell_type": "code",
   "execution_count": 2,
   "metadata": {},
   "outputs": [
    {
     "name": "stderr",
     "output_type": "stream",
     "text": [
      "/Users/lichengk/.miniforge3/envs/py39_forge/lib/python3.9/site-packages/jax/_src/lib/__init__.py:33: UserWarning: JAX on Mac ARM machines is experimental and minimally tested. Please see https://github.com/google/jax/issues/5501 in the event of problems.\n",
      "  warnings.warn(\"JAX on Mac ARM machines is experimental and minimally tested. \"\n"
     ]
    }
   ],
   "source": [
    "from jax.config import config\n",
    "\n",
    "config.update(\"jax_debug_nans\", True)\n",
    "import jax\n",
    "import jaxgp as jgp\n",
    "import jax.numpy as jnp\n",
    "import jax.random as jr\n",
    "from jaxgp.sgpr import SGPR\n",
    "from scipy.optimize import minimize\n",
    "import jaxopt\n",
    "import numpy as np\n",
    "import matplotlib.pyplot as plt"
   ]
  },
  {
   "cell_type": "code",
   "execution_count": 3,
   "metadata": {},
   "outputs": [],
   "source": [
    "rng = np.random.RandomState(123)\n",
    "\n",
    "def readCsvFile(fileName):\n",
    "    return np.loadtxt(fileName).reshape(-1, 1)\n",
    "\n",
    "def getTrainingTestData():\n",
    "    overallX = readCsvFile(\"data/snelson_train_inputs.dat\")\n",
    "    overallY = readCsvFile(\"data/snelson_train_outputs.dat\")\n",
    "\n",
    "    trainIndices = []\n",
    "    testIndices = []\n",
    "\n",
    "    nPoints = overallX.shape[0]\n",
    "\n",
    "    for index in range(nPoints):\n",
    "        if index % 4 == 0:\n",
    "            trainIndices.append(index)\n",
    "        else:\n",
    "            testIndices.append(index)\n",
    "\n",
    "    Xtrain = overallX[trainIndices, :]\n",
    "    Xtest = overallX[testIndices, :]\n",
    "    Ytrain = overallY[trainIndices, :]\n",
    "    Ytest = overallY[testIndices, :]\n",
    "\n",
    "    return Xtrain, Ytrain, Xtest, Ytest\n",
    "\n",
    "X, y, Xtest, ytest = getTrainingTestData()\n",
    "Z = X.copy()\n"
   ]
  },
  {
   "cell_type": "code",
   "execution_count": 4,
   "metadata": {},
   "outputs": [
    {
     "name": "stderr",
     "output_type": "stream",
     "text": [
      "WARNING:absl:No GPU/TPU found, falling back to CPU. (Set TF_CPP_MIN_LOG_LEVEL=0 and rerun for more info.)\n"
     ]
    }
   ],
   "source": [
    "train_data = jgp.Dataset(X=X, Y=y)\n",
    "kernel = jgp.kernels.RBF(active_dims=[0])\n",
    "model = SGPR(\n",
    "    train_data=train_data,\n",
    "    gprior=jgp.GPrior(kernel=kernel),\n",
    "    likelihood=jgp.likelihoods.Gaussian(),\n",
    "    inducing_points=Z,\n",
    ")\n",
    "params, constrain_trans, unconstrain_trans = jgp.initialise(model)\n",
    "posterior = model.posterior()\n"
   ]
  },
  {
   "cell_type": "code",
   "execution_count": 5,
   "metadata": {},
   "outputs": [
    {
     "name": "stdout",
     "output_type": "stream",
     "text": [
      "{'inducing_points': (50, 1), 'kernel': {'lengthscale': (1,), 'outputscale': (1,)}, 'likelihood': {'noise': ()}, 'mean_function': {}}\n"
     ]
    }
   ],
   "source": [
    "# Copy dictionary structure\n",
    "import copy\n",
    "prior_container = copy.deepcopy(params)\n",
    "# Set all values to zero\n",
    "prior_container = jax.tree_map(lambda v: v.shape, prior_container)\n",
    "print(prior_container)"
   ]
  },
  {
   "cell_type": "code",
   "execution_count": 6,
   "metadata": {},
   "outputs": [
    {
     "name": "stdout",
     "output_type": "stream",
     "text": [
      "Initial negative elbo =  56.21773315689732\n",
      "Warning: Desired error not necessarily achieved due to precision loss.\n",
      "         Current function value: -88.601344\n",
      "         Iterations: 61\n",
      "         Function evaluations: 297\n",
      "         Gradient evaluations: 285\n",
      "After optimization negative elbo =  -88.60134399256194\n"
     ]
    }
   ],
   "source": [
    "train_data = jgp.Dataset(X=X, Y=y)\n",
    "kernel = jgp.kernels.RBF(active_dims=jnp.arange(X.shape[-1]))\n",
    "model = SGPR(\n",
    "    train_data=train_data,\n",
    "    gprior=jgp.GPrior(kernel=kernel),\n",
    "    likelihood=jgp.likelihoods.Gaussian(),\n",
    "    inducing_points=Z,\n",
    ")\n",
    "\n",
    "params, constrain_trans, unconstrain_trans = jgp.initialise(model)\n",
    "raw_params = unconstrain_trans(params)\n",
    "neg_elbo = model.build_elbo(sign=-1.0)\n",
    "print(\"Initial negative elbo = \", neg_elbo(raw_params))\n",
    "solver = jaxopt.ScipyMinimize(\n",
    "    fun=neg_elbo, jit=True, options={\"disp\": True}\n",
    ")\n",
    "soln = solver.run(raw_params)\n",
    "# Remember to transform since the optimization is in unconstrained space\n",
    "final_params = constrain_trans(soln.params)\n",
    "print(\"After optimization negative elbo = \", neg_elbo(soln.params))\n",
    "\n",
    "posterior = model.posterior()"
   ]
  },
  {
   "cell_type": "code",
   "execution_count": 7,
   "metadata": {},
   "outputs": [
    {
     "data": {
      "text/plain": [
       "<matplotlib.collections.PolyCollection at 0x2a853f310>"
      ]
     },
     "execution_count": 7,
     "metadata": {},
     "output_type": "execute_result"
    },
    {
     "data": {
      "image/png": "[encoded data removed]",
      "text/plain": [
       "<Figure size 432x288 with 1 Axes>"
      ]
     },
     "metadata": {
      "needs_background": "light"
     },
     "output_type": "display_data"
    }
   ],
   "source": [
    "Xtest = jnp.linspace(-3, 10, 100)\n",
    "pred_mean, pred_var = posterior.predict_f(\n",
    "    Xtest, final_params, full_cov=False\n",
    ")\n",
    "plt.plot(X, y, \"o\", color=\"k\", markersize=2)\n",
    "plt.plot(final_params[\"inducing_points\"], np.zeros_like(Z), \"x\", color=\"tab:red\")\n",
    "plt.plot(Xtest, pred_mean, color=\"tab:orange\", linewidth=2)\n",
    "plt.fill_between(\n",
    "    Xtest.squeeze(),\n",
    "    pred_mean.squeeze() - 2*np.sqrt(pred_var.squeeze()),\n",
    "    pred_mean.squeeze() + 2*np.sqrt(pred_var.squeeze()),\n",
    "    alpha=0.5,\n",
    "    color=\"tab:blue\",\n",
    ")"
   ]
  },
  {
   "cell_type": "code",
   "execution_count": 8,
   "metadata": {},
   "outputs": [],
   "source": [
    "final_params = copy.deepcopy(params)\n",
    "final_params[\"inducing_points\"] = Z\n",
    "final_params[\"kernel\"][\"lengthscale\"] = jnp.array([0.5825])\n",
    "final_params[\"kernel\"][\"outputscale\"] = jnp.array([0.90049])\n",
    "final_params[\"likelihood\"][\"noise\"] = 0.074286\n",
    "\n",
    "pred_mean, pred_var = posterior.predict_f(\n",
    "    Xtest, final_params, full_cov=False\n",
    ")"
   ]
  },
  {
   "cell_type": "code",
   "execution_count": 9,
   "metadata": {},
   "outputs": [
    {
     "data": {
      "text/plain": [
       "<matplotlib.collections.PolyCollection at 0x2a9269bb0>"
      ]
     },
     "execution_count": 9,
     "metadata": {},
     "output_type": "execute_result"
    },
    {
     "data": {
      "image/png": "[encoded data removed]",
      "text/plain": [
       "<Figure size 432x288 with 1 Axes>"
      ]
     },
     "metadata": {
      "needs_background": "light"
     },
     "output_type": "display_data"
    }
   ],
   "source": [
    "plt.plot(X, y, \"o\", color=\"k\", markersize=2)\n",
    "plt.plot(final_params[\"inducing_points\"], np.zeros_like(Z), \"x\", color=\"tab:red\")\n",
    "plt.plot(Xtest, pred_mean, color=\"tab:orange\", linewidth=2)\n",
    "plt.fill_between(\n",
    "    Xtest.squeeze(),\n",
    "    pred_mean.squeeze() - 2*np.sqrt(pred_var.squeeze()),\n",
    "    pred_mean.squeeze() + 2*np.sqrt(pred_var.squeeze()),\n",
    "    alpha=0.5,\n",
    "    color=\"tab:blue\",\n",
    ")"
   ]
  },
  {
   "cell_type": "code",
   "execution_count": 10,
   "metadata": {},
   "outputs": [
    {
     "data": {
      "text/plain": [
       "DeviceArray(14.95898984, dtype=float64)"
      ]
     },
     "execution_count": 10,
     "metadata": {},
     "output_type": "execute_result"
    }
   ],
   "source": [
    "neg_elbo(unconstrain_trans(final_params))"
   ]
  },
  {
   "cell_type": "code",
   "execution_count": null,
   "metadata": {},
   "outputs": [],
   "source": [
    "qu_mean, qu_cov = model.compute_qu(final_params)\n",
    "f_at_Z_mean, f_at_Z_cov = posterior.predict_f(\n",
    "    final_params[\"inducing_points\"], final_params, full_cov=True\n",
    ")\n",
    "assert jnp.allclose(qu_mean, f_at_Z_mean, rtol=1e-5, atol=1e-4)\n",
    "assert jnp.allclose(\n",
    "    qu_cov.reshape(1, 50, 50), f_at_Z_cov, rtol=1e-5, atol=1e-5\n",
    ")"
   ]
  },
  {
   "cell_type": "code",
   "execution_count": null,
   "metadata": {},
   "outputs": [],
   "source": []
  }
 ],
 "metadata": {
  "interpreter": {
   "hash": "73de991c5b87fa789d9b193d807aa508bc59c930638e53d55560bd0f6da949df"
  },
  "kernelspec": {
   "display_name": "Python 3.9.9 ('py39_forge')",
   "language": "python",
   "name": "python3"
  },
  "language_info": {
   "codemirror_mode": {
    "name": "ipython",
    "version": 3
   },
   "file_extension": ".py",
   "mimetype": "text/x-python",
   "name": "python",
   "nbconvert_exporter": "python",
   "pygments_lexer": "ipython3",
   "version": "3.9.9"
  },
  "orig_nbformat": 4
 },
 "nbformat": 4,
 "nbformat_minor": 2
}
